{
 "cells": [
  {
   "cell_type": "code",
   "execution_count": 1,
   "id": "6b24a8fd",
   "metadata": {},
   "outputs": [],
   "source": [
    "import requests\n",
    "import selenium\n",
    "from bs4 import BeautifulSoup\n",
    "from selenium import webdriver\n",
    "from selenium.webdriver.common.keys import Keys\n",
    "from selenium.webdriver.common.by import By\n",
    "import pandas as pd\n",
    "import time\n",
    "from selenium.common.exceptions import NoSuchElementException,StaleElementReferenceException\n",
    "\n",
    "\n",
    "\n",
    "import warnings\n",
    "warnings.filterwarnings('ignore')"
   ]
  },
  {
   "cell_type": "code",
   "execution_count": 2,
   "id": "04b21e18",
   "metadata": {},
   "outputs": [],
   "source": [
    "# getting web driver\n",
    "driver=webdriver.Chrome(r'C:\\Users\\DELL\\chromedriver_win32\\chromedriver')"
   ]
  },
  {
   "cell_type": "code",
   "execution_count": 3,
   "id": "ebdcbff1",
   "metadata": {},
   "outputs": [],
   "source": [
    "driver.get(\"https://www.flipkart.com\")"
   ]
  },
  {
   "cell_type": "code",
   "execution_count": 4,
   "id": "37f4ae69",
   "metadata": {},
   "outputs": [],
   "source": [
    "search_box = driver.find_element(By.XPATH,'//input[@class=\"_3704LK\"]')"
   ]
  },
  {
   "cell_type": "code",
   "execution_count": 5,
   "id": "d8b9d7a0",
   "metadata": {},
   "outputs": [],
   "source": [
    "search_btn = driver.find_element(By.XPATH,'//div[@class=\"col-12-12 _2oO9oE\"]//button')"
   ]
  },
  {
   "cell_type": "code",
   "execution_count": 6,
   "id": "eaa2eca8",
   "metadata": {},
   "outputs": [],
   "source": [
    "#parameter for which we need to fetch data\n",
    "key = [\"Smart watches\",\"Phones\",\"Laptop\",\"Professional Camera\",\"Headphones\",\"Printers\",\"Monitors\",\"Router\",\"Home Theatre\"]"
   ]
  },
  {
   "cell_type": "code",
   "execution_count": 8,
   "id": "757c3229",
   "metadata": {},
   "outputs": [],
   "source": [
    "#fetching urls for scraping data\n",
    "urls = []\n",
    "for i in key:\n",
    "    time.sleep(1)\n",
    "    search_box.clear()\n",
    "    search_box.send_keys(i)\n",
    "    search_btn.click()\n",
    "    time.sleep(3)\n",
    "    #fetch data for only two pages\n",
    "    for pages in range(0,2):\n",
    "        time.sleep(1)\n",
    "        for i in driver.find_elements(By.XPATH,'//a[@class=\"_1fQZEK\" or @class=\"s1Q9rs\"]'):\n",
    "            urls.append(i.get_attribute('href'))\n",
    "        button=driver.find_elements(By.XPATH,\"//*[contains(@class, '_1LKTO3')]\")\n",
    "        time.sleep(1)\n",
    "        for k in button:\n",
    "            if k.text==\"NEXT\":\n",
    "                k.click()"
   ]
  },
  {
   "cell_type": "code",
   "execution_count": 9,
   "id": "60101150",
   "metadata": {},
   "outputs": [
    {
     "data": {
      "text/plain": [
       "560"
      ]
     },
     "execution_count": 9,
     "metadata": {},
     "output_type": "execute_result"
    }
   ],
   "source": [
    "len(urls)"
   ]
  },
  {
   "cell_type": "code",
   "execution_count": 22,
   "id": "5a16f783",
   "metadata": {},
   "outputs": [],
   "source": [
    "review=[]\n",
    "rating=[]\n",
    "time.sleep(3)"
   ]
  },
  {
   "cell_type": "code",
   "execution_count": null,
   "id": "0b5c044f",
   "metadata": {},
   "outputs": [],
   "source": []
  },
  {
   "cell_type": "code",
   "execution_count": 23,
   "id": "bfd8f4de",
   "metadata": {},
   "outputs": [],
   "source": [
    "#fetching review and rating\n",
    "rating = [] # Creating list to store data\n",
    "review= []\n",
    "#call every url and click on all review button to fetch review\n",
    "for i in urls:\n",
    "    driver.get(i)\n",
    "    time.sleep(3)\n",
    "    try:\n",
    "        all_review =driver.find_element(By.XPATH,\"//div[@class='_3UAT2v _16PBlm']//span\")\n",
    "        all_review.click()\n",
    "        time.sleep(2)\n",
    "    except NoSuchElementException:\n",
    "        continue\n",
    "    #fetching review of 10 pages\n",
    "    for i in range(0,9):\n",
    "        try:\n",
    "            for i in driver.find_elements(By.XPATH,\"//div[@class='_3LWZlK _1BLPMq' or @class='_3LWZlK _32lA32 _1BLPMq' or @class='_3LWZlK _1rdVr6 _1BLPMq']\"):\n",
    "                if i.text is None:\n",
    "                    rating.append(\"---\")\n",
    "                else:\n",
    "                    rating.append(i.text.split()[0])\n",
    "                \n",
    "        except NoSuchElementException or StaleElementReferenceException:\n",
    "            rating.append(\"---\")  \n",
    "\n",
    "        try:\n",
    "            for i in driver.find_elements(By.XPATH,\"//div[@class='t-ZTKy']/div/div\"):\n",
    "                review.append(i.text)\n",
    "        except:\n",
    "            None\n",
    "        \n",
    "    \n",
    "        try:\n",
    "            button=driver.find_element(By.XPATH,\"//*[contains(text(), 'Next')]\")\n",
    "            driver.execute_script(\"arguments[0].click();\", button)\n",
    "            time.sleep(2)\n",
    "        \n",
    "       \n",
    "        except:\n",
    "             break\n",
    "    "
   ]
  },
  {
   "cell_type": "code",
   "execution_count": 24,
   "id": "ad142df1",
   "metadata": {},
   "outputs": [
    {
     "data": {
      "text/plain": [
       "(31405, 31405)"
      ]
     },
     "execution_count": 24,
     "metadata": {},
     "output_type": "execute_result"
    }
   ],
   "source": [
    "#checking the lenght of list review and rating\n",
    "len(rating),len(review)"
   ]
  },
  {
   "cell_type": "code",
   "execution_count": 25,
   "id": "6aec1341",
   "metadata": {},
   "outputs": [
    {
     "data": {
      "text/html": [
       "<div>\n",
       "<style scoped>\n",
       "    .dataframe tbody tr th:only-of-type {\n",
       "        vertical-align: middle;\n",
       "    }\n",
       "\n",
       "    .dataframe tbody tr th {\n",
       "        vertical-align: top;\n",
       "    }\n",
       "\n",
       "    .dataframe thead th {\n",
       "        text-align: right;\n",
       "    }\n",
       "</style>\n",
       "<table border=\"1\" class=\"dataframe\">\n",
       "  <thead>\n",
       "    <tr style=\"text-align: right;\">\n",
       "      <th></th>\n",
       "      <th>Reviews</th>\n",
       "      <th>Ratings</th>\n",
       "    </tr>\n",
       "  </thead>\n",
       "  <tbody>\n",
       "    <tr>\n",
       "      <th>0</th>\n",
       "      <td>Thank you for delivery it just in one day . I ...</td>\n",
       "      <td>5</td>\n",
       "    </tr>\n",
       "    <tr>\n",
       "      <th>1</th>\n",
       "      <td>Amazing watch ! Was lill skeptic before buying...</td>\n",
       "      <td>5</td>\n",
       "    </tr>\n",
       "    <tr>\n",
       "      <th>2</th>\n",
       "      <td>Superb Quality , Nothing like apple , No need ...</td>\n",
       "      <td>5</td>\n",
       "    </tr>\n",
       "    <tr>\n",
       "      <th>3</th>\n",
       "      <td>Apple does seem to release stable product over...</td>\n",
       "      <td>5</td>\n",
       "    </tr>\n",
       "    <tr>\n",
       "      <th>4</th>\n",
       "      <td>Just just amazing and fall in love at firs gla...</td>\n",
       "      <td>5</td>\n",
       "    </tr>\n",
       "    <tr>\n",
       "      <th>...</th>\n",
       "      <td>...</td>\n",
       "      <td>...</td>\n",
       "    </tr>\n",
       "    <tr>\n",
       "      <th>31400</th>\n",
       "      <td>Great Experience</td>\n",
       "      <td>5</td>\n",
       "    </tr>\n",
       "    <tr>\n",
       "      <th>31401</th>\n",
       "      <td>Premium product</td>\n",
       "      <td>5</td>\n",
       "    </tr>\n",
       "    <tr>\n",
       "      <th>31402</th>\n",
       "      <td>At one go you will get Bluetooth, FM, Auxiliar...</td>\n",
       "      <td>5</td>\n",
       "    </tr>\n",
       "    <tr>\n",
       "      <th>31403</th>\n",
       "      <td>The product was defective</td>\n",
       "      <td>1</td>\n",
       "    </tr>\n",
       "    <tr>\n",
       "      <th>31404</th>\n",
       "      <td>Not product</td>\n",
       "      <td>2</td>\n",
       "    </tr>\n",
       "  </tbody>\n",
       "</table>\n",
       "<p>31405 rows × 2 columns</p>\n",
       "</div>"
      ],
      "text/plain": [
       "                                                 Reviews Ratings\n",
       "0      Thank you for delivery it just in one day . I ...       5\n",
       "1      Amazing watch ! Was lill skeptic before buying...       5\n",
       "2      Superb Quality , Nothing like apple , No need ...       5\n",
       "3      Apple does seem to release stable product over...       5\n",
       "4      Just just amazing and fall in love at firs gla...       5\n",
       "...                                                  ...     ...\n",
       "31400                                   Great Experience       5\n",
       "31401                                    Premium product       5\n",
       "31402  At one go you will get Bluetooth, FM, Auxiliar...       5\n",
       "31403                          The product was defective       1\n",
       "31404                                        Not product       2\n",
       "\n",
       "[31405 rows x 2 columns]"
      ]
     },
     "execution_count": 25,
     "metadata": {},
     "output_type": "execute_result"
    }
   ],
   "source": [
    "# lets make a dataframe\n",
    "Rating_data=pd.DataFrame({'Reviews': review, 'Ratings': rating})\n",
    "Rating_data"
   ]
  },
  {
   "cell_type": "code",
   "execution_count": 26,
   "id": "52af229d",
   "metadata": {},
   "outputs": [],
   "source": [
    "# saving as excel file\n",
    "Rating_data.to_excel(\"Rating_&_Reviews_dataset.xlsx\")"
   ]
  },
  {
   "cell_type": "code",
   "execution_count": 27,
   "id": "8385891e",
   "metadata": {},
   "outputs": [],
   "source": [
    "driver.close()"
   ]
  },
  {
   "cell_type": "code",
   "execution_count": null,
   "id": "d28e6cba",
   "metadata": {},
   "outputs": [],
   "source": []
  }
 ],
 "metadata": {
  "kernelspec": {
   "display_name": "Python 3 (ipykernel)",
   "language": "python",
   "name": "python3"
  },
  "language_info": {
   "codemirror_mode": {
    "name": "ipython",
    "version": 3
   },
   "file_extension": ".py",
   "mimetype": "text/x-python",
   "name": "python",
   "nbconvert_exporter": "python",
   "pygments_lexer": "ipython3",
   "version": "3.9.12"
  }
 },
 "nbformat": 4,
 "nbformat_minor": 5
}
